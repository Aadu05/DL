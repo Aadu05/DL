{
 "cells": [
  {
   "cell_type": "code",
   "execution_count": 105,
   "metadata": {},
   "outputs": [],
   "source": [
    "import numpy as np\n",
    "import matplotlib.pyplot as plt\n",
    "import pandas as pd\n",
    "import math\n",
    "from keras.models import Sequential\n",
    "from keras.layers import Dense\n",
    "from keras.layers import LSTM\n",
    "from sklearn.preprocessing import MinMaxScaler"
   ]
  },
  {
   "cell_type": "code",
   "execution_count": 106,
   "metadata": {},
   "outputs": [],
   "source": [
    "numpy.random.seed(7)"
   ]
  },
  {
   "cell_type": "code",
   "execution_count": 107,
   "metadata": {},
   "outputs": [
    {
     "data": {
      "text/html": [
       "<div>\n",
       "<style scoped>\n",
       "    .dataframe tbody tr th:only-of-type {\n",
       "        vertical-align: middle;\n",
       "    }\n",
       "\n",
       "    .dataframe tbody tr th {\n",
       "        vertical-align: top;\n",
       "    }\n",
       "\n",
       "    .dataframe thead th {\n",
       "        text-align: right;\n",
       "    }\n",
       "</style>\n",
       "<table border=\"1\" class=\"dataframe\">\n",
       "  <thead>\n",
       "    <tr style=\"text-align: right;\">\n",
       "      <th></th>\n",
       "      <th>Month</th>\n",
       "      <th>#Passengers</th>\n",
       "    </tr>\n",
       "  </thead>\n",
       "  <tbody>\n",
       "    <tr>\n",
       "      <th>0</th>\n",
       "      <td>1949-01</td>\n",
       "      <td>112</td>\n",
       "    </tr>\n",
       "    <tr>\n",
       "      <th>1</th>\n",
       "      <td>1949-02</td>\n",
       "      <td>118</td>\n",
       "    </tr>\n",
       "    <tr>\n",
       "      <th>2</th>\n",
       "      <td>1949-03</td>\n",
       "      <td>132</td>\n",
       "    </tr>\n",
       "    <tr>\n",
       "      <th>3</th>\n",
       "      <td>1949-04</td>\n",
       "      <td>129</td>\n",
       "    </tr>\n",
       "    <tr>\n",
       "      <th>4</th>\n",
       "      <td>1949-05</td>\n",
       "      <td>121</td>\n",
       "    </tr>\n",
       "  </tbody>\n",
       "</table>\n",
       "</div>"
      ],
      "text/plain": [
       "     Month  #Passengers\n",
       "0  1949-01          112\n",
       "1  1949-02          118\n",
       "2  1949-03          132\n",
       "3  1949-04          129\n",
       "4  1949-05          121"
      ]
     },
     "execution_count": 107,
     "metadata": {},
     "output_type": "execute_result"
    }
   ],
   "source": [
    "df=pd.read_csv(\"D:\\\\Abhi reddy\\\\NMIT M.tech\\\\AirPassengers.csv\")\n",
    "df.head()"
   ]
  },
  {
   "cell_type": "code",
   "execution_count": 108,
   "metadata": {},
   "outputs": [
    {
     "data": {
      "image/png": "[encoded data removed]",
      "text/plain": [
       "<Figure size 432x288 with 1 Axes>"
      ]
     },
     "metadata": {
      "needs_background": "light"
     },
     "output_type": "display_data"
    }
   ],
   "source": [
    "dataset = df.iloc[:,1].values\n",
    "plt.plot(dataset)\n",
    "plt.xlabel('time')\n",
    "plt.ylabel('number of passengers')\n",
    "plt.title(' Air Passenger')\n",
    "plt.show()"
   ]
  },
  {
   "cell_type": "code",
   "execution_count": 109,
   "metadata": {},
   "outputs": [
    {
     "data": {
      "text/plain": [
       "(144, 1)"
      ]
     },
     "execution_count": 109,
     "metadata": {},
     "output_type": "execute_result"
    }
   ],
   "source": [
    "dataset = dataset.reshape(-1,1)\n",
    "dataset = dataset.astype('float32')\n",
    "dataset.shape"
   ]
  },
  {
   "cell_type": "code",
   "execution_count": 110,
   "metadata": {},
   "outputs": [
    {
     "data": {
      "text/plain": [
       "array([[0.01544401],\n",
       "       [0.02702703],\n",
       "       [0.05405405],\n",
       "       [0.04826255],\n",
       "       [0.03281853],\n",
       "       [0.05984557],\n",
       "       [0.08494207],\n",
       "       [0.08494207],\n",
       "       [0.06177607],\n",
       "       [0.02895753],\n",
       "       [0.        ],\n",
       "       [0.02702703],\n",
       "       [0.02123553],\n",
       "       [0.04247104],\n",
       "       [0.07142857],\n",
       "       [0.05984557],\n",
       "       [0.04054055],\n",
       "       [0.08687258],\n",
       "       [0.12741312],\n",
       "       [0.12741312],\n",
       "       [0.10424709],\n",
       "       [0.05598456],\n",
       "       [0.01930502],\n",
       "       [0.06949806],\n",
       "       [0.07915059],\n",
       "       [0.08880308],\n",
       "       [0.14285713],\n",
       "       [0.11389962],\n",
       "       [0.13127413],\n",
       "       [0.14285713],\n",
       "       [0.18339768],\n",
       "       [0.18339768],\n",
       "       [0.15444016],\n",
       "       [0.11196911],\n",
       "       [0.08108109],\n",
       "       [0.1196911 ],\n",
       "       [0.12934363],\n",
       "       [0.14671814],\n",
       "       [0.17181468],\n",
       "       [0.14864865],\n",
       "       [0.15250966],\n",
       "       [0.22007722],\n",
       "       [0.24324325],\n",
       "       [0.26640925],\n",
       "       [0.2027027 ],\n",
       "       [0.16795367],\n",
       "       [0.13127413],\n",
       "       [0.17374519],\n",
       "       [0.17760617],\n",
       "       [0.17760617],\n",
       "       [0.25482625],\n",
       "       [0.25289574],\n",
       "       [0.24131274],\n",
       "       [0.26833975],\n",
       "       [0.3088803 ],\n",
       "       [0.32432434],\n",
       "       [0.25675675],\n",
       "       [0.20656371],\n",
       "       [0.14671814],\n",
       "       [0.18725869],\n",
       "       [0.19305018],\n",
       "       [0.16216215],\n",
       "       [0.25289574],\n",
       "       [0.23745173],\n",
       "       [0.25096524],\n",
       "       [0.3088803 ],\n",
       "       [0.38223937],\n",
       "       [0.36486486],\n",
       "       [0.2992278 ],\n",
       "       [0.24131274],\n",
       "       [0.1911197 ],\n",
       "       [0.24131274],\n",
       "       [0.26640925],\n",
       "       [0.24903473],\n",
       "       [0.31467178],\n",
       "       [0.3185328 ],\n",
       "       [0.32046333],\n",
       "       [0.4073359 ],\n",
       "       [0.5019305 ],\n",
       "       [0.46911195],\n",
       "       [0.40154442],\n",
       "       [0.32818535],\n",
       "       [0.25675675],\n",
       "       [0.3359073 ],\n",
       "       [0.34749034],\n",
       "       [0.33397684],\n",
       "       [0.41119692],\n",
       "       [0.4034749 ],\n",
       "       [0.4131274 ],\n",
       "       [0.52123547],\n",
       "       [0.5965251 ],\n",
       "       [0.58108103],\n",
       "       [0.484556  ],\n",
       "       [0.3899614 ],\n",
       "       [0.3223938 ],\n",
       "       [0.3899614 ],\n",
       "       [0.4073359 ],\n",
       "       [0.3803089 ],\n",
       "       [0.48648646],\n",
       "       [0.47104248],\n",
       "       [0.484556  ],\n",
       "       [0.6138996 ],\n",
       "       [0.6969112 ],\n",
       "       [0.70077217],\n",
       "       [0.57915056],\n",
       "       [0.46911195],\n",
       "       [0.38803086],\n",
       "       [0.44787642],\n",
       "       [0.45559844],\n",
       "       [0.4131274 ],\n",
       "       [0.4980695 ],\n",
       "       [0.47104248],\n",
       "       [0.49999997],\n",
       "       [0.6389961 ],\n",
       "       [0.7471043 ],\n",
       "       [0.7741313 ],\n",
       "       [0.57915056],\n",
       "       [0.492278  ],\n",
       "       [0.3976834 ],\n",
       "       [0.44980696],\n",
       "       [0.49420848],\n",
       "       [0.45945945],\n",
       "       [0.5830116 ],\n",
       "       [0.5637065 ],\n",
       "       [0.61003864],\n",
       "       [0.71042466],\n",
       "       [0.8571429 ],\n",
       "       [0.8783784 ],\n",
       "       [0.69305015],\n",
       "       [0.5849421 ],\n",
       "       [0.4980695 ],\n",
       "       [0.58108103],\n",
       "       [0.6042471 ],\n",
       "       [0.554054  ],\n",
       "       [0.60810804],\n",
       "       [0.6891892 ],\n",
       "       [0.71042466],\n",
       "       [0.8320464 ],\n",
       "       [1.        ],\n",
       "       [0.96911204],\n",
       "       [0.7799227 ],\n",
       "       [0.6891892 ],\n",
       "       [0.55212355],\n",
       "       [0.6332046 ]], dtype=float32)"
      ]
     },
     "execution_count": 110,
     "metadata": {},
     "output_type": "execute_result"
    }
   ],
   "source": [
    "scaler = MinMaxScaler(feature_range=(0,1))\n",
    "dataset = scaler.fit_transform(dataset)\n",
    "dataset"
   ]
  },
  {
   "cell_type": "code",
   "execution_count": 111,
   "metadata": {},
   "outputs": [
    {
     "name": "stdout",
     "output_type": "stream",
     "text": [
      "train_size : 72, test_size : 72\n"
     ]
    }
   ],
   "source": [
    "train_size = int(len(dataset)*0.50)\n",
    "test_size = len(dataset) - train_size\n",
    "train = dataset[0:train_size,:]\n",
    "test = dataset[train_size:len(dataset),:]\n",
    "print('train_size : {}, test_size : {}'.format(len(train),len(test)))"
   ]
  },
  {
   "cell_type": "code",
   "execution_count": 112,
   "metadata": {},
   "outputs": [],
   "source": [
    "timestamp=10\n",
    "dataX = []\n",
    "dataY = []\n",
    "for i in range(len(train)-timestamp-1):\n",
    "    a = train[i:(i+timestamp),0]\n",
    "    dataX.append(a)\n",
    "    dataY.append(train[i+timestamp,0])\n",
    "trainX = np.array(dataX)\n",
    "trainY = np.array(dataY)"
   ]
  },
  {
   "cell_type": "code",
   "execution_count": 113,
   "metadata": {},
   "outputs": [],
   "source": [
    "timestep=10\n",
    "dataX = []\n",
    "dataY = []\n",
    "for i in range(len(test)-timestamp-1):\n",
    "    a = test[i:(i+timestamp),0]\n",
    "    dataX.append(a)\n",
    "    dataY.append(test[i+timestamp,0])\n",
    "testX = np.array(dataX)\n",
    "testY = np.array(dataY)"
   ]
  },
  {
   "cell_type": "code",
   "execution_count": 114,
   "metadata": {},
   "outputs": [],
   "source": [
    "trainX = np.reshape(trainX,(trainX.shape[0],1,trainX.shape[1]))\n",
    "testX = np.reshape(testX,(testX.shape[0],1,testX.shape[1]))"
   ]
  },
  {
   "cell_type": "code",
   "execution_count": 115,
   "metadata": {},
   "outputs": [
    {
     "name": "stdout",
     "output_type": "stream",
     "text": [
      "Epoch 1/50\n",
      "61/61 [==============================] - 0s 749us/step - loss: 0.0875\n",
      "Epoch 2/50\n",
      "61/61 [==============================] - 0s 798us/step - loss: 0.0467\n",
      "Epoch 3/50\n",
      "61/61 [==============================] - 0s 815us/step - loss: 0.0168\n",
      "Epoch 4/50\n",
      "61/61 [==============================] - 0s 763us/step - loss: 0.0092\n",
      "Epoch 5/50\n",
      "61/61 [==============================] - 0s 748us/step - loss: 0.0073\n",
      "Epoch 6/50\n",
      "61/61 [==============================] - 0s 765us/step - loss: 0.0053\n",
      "Epoch 7/50\n",
      "61/61 [==============================] - 0s 715us/step - loss: 0.0042\n",
      "Epoch 8/50\n",
      "61/61 [==============================] - 0s 715us/step - loss: 0.0053\n",
      "Epoch 9/50\n",
      "61/61 [==============================] - 0s 665us/step - loss: 0.0046\n",
      "Epoch 10/50\n",
      "61/61 [==============================] - 0s 682us/step - loss: 0.0040\n",
      "Epoch 11/50\n",
      "61/61 [==============================] - 0s 814us/step - loss: 0.0054\n",
      "Epoch 12/50\n",
      "61/61 [==============================] - 0s 881us/step - loss: 0.0042\n",
      "Epoch 13/50\n",
      "61/61 [==============================] - 0s 648us/step - loss: 0.0046\n",
      "Epoch 14/50\n",
      "61/61 [==============================] - 0s 765us/step - loss: 0.0028\n",
      "Epoch 15/50\n",
      "61/61 [==============================] - 0s 714us/step - loss: 0.0033\n",
      "Epoch 16/50\n",
      "61/61 [==============================] - 0s 781us/step - loss: 0.0027\n",
      "Epoch 17/50\n",
      "61/61 [==============================] - 0s 749us/step - loss: 0.0021\n",
      "Epoch 18/50\n",
      "61/61 [==============================] - 0s 765us/step - loss: 0.0030\n",
      "Epoch 19/50\n",
      "61/61 [==============================] - 0s 765us/step - loss: 0.0033\n",
      "Epoch 20/50\n",
      "61/61 [==============================] - 0s 781us/step - loss: 0.0025\n",
      "Epoch 21/50\n",
      "61/61 [==============================] - 0s 731us/step - loss: 0.0025\n",
      "Epoch 22/50\n",
      "61/61 [==============================] - 0s 781us/step - loss: 0.0019\n",
      "Epoch 23/50\n",
      "61/61 [==============================] - 0s 715us/step - loss: 0.0019\n",
      "Epoch 24/50\n",
      "61/61 [==============================] - 0s 681us/step - loss: 0.0020\n",
      "Epoch 25/50\n",
      "61/61 [==============================] - 0s 681us/step - loss: 0.0021\n",
      "Epoch 26/50\n",
      "61/61 [==============================] - 0s 765us/step - loss: 0.0018\n",
      "Epoch 27/50\n",
      "61/61 [==============================] - 0s 981us/step - loss: 0.0014\n",
      "Epoch 28/50\n",
      "61/61 [==============================] - 0s 715us/step - loss: 0.0018\n",
      "Epoch 29/50\n",
      "61/61 [==============================] - 0s 665us/step - loss: 0.0015\n",
      "Epoch 30/50\n",
      "61/61 [==============================] - 0s 715us/step - loss: 0.0023\n",
      "Epoch 31/50\n",
      "61/61 [==============================] - 0s 781us/step - loss: 0.0020\n",
      "Epoch 32/50\n",
      "61/61 [==============================] - 0s 781us/step - loss: 0.0013\n",
      "Epoch 33/50\n",
      "61/61 [==============================] - 0s 1ms/step - loss: 0.0018\n",
      "Epoch 34/50\n",
      "61/61 [==============================] - 0s 781us/step - loss: 0.0015\n",
      "Epoch 35/50\n",
      "61/61 [==============================] - 0s 682us/step - loss: 0.0024\n",
      "Epoch 36/50\n",
      "61/61 [==============================] - 0s 717us/step - loss: 0.0023\n",
      "Epoch 37/50\n",
      "61/61 [==============================] - 0s 1ms/step - loss: 0.0015\n",
      "Epoch 38/50\n",
      "61/61 [==============================] - 0s 997us/step - loss: 0.0018\n",
      "Epoch 39/50\n",
      "61/61 [==============================] - 0s 981us/step - loss: 0.0014\n",
      "Epoch 40/50\n",
      "61/61 [==============================] - 0s 997us/step - loss: 0.0016\n",
      "Epoch 41/50\n",
      "61/61 [==============================] - 0s 881us/step - loss: 0.0018\n",
      "Epoch 42/50\n",
      "61/61 [==============================] - 0s 981us/step - loss: 0.0022\n",
      "Epoch 43/50\n",
      "61/61 [==============================] - 0s 981us/step - loss: 0.0015\n",
      "Epoch 44/50\n",
      "61/61 [==============================] - 0s 1ms/step - loss: 0.0016\n",
      "Epoch 45/50\n",
      "61/61 [==============================] - 0s 997us/step - loss: 0.0016\n",
      "Epoch 46/50\n",
      "61/61 [==============================] - 0s 948us/step - loss: 0.0018\n",
      "Epoch 47/50\n",
      "61/61 [==============================] - 0s 981us/step - loss: 0.0016\n",
      "Epoch 48/50\n",
      "61/61 [==============================] - 0s 947us/step - loss: 0.0017\n",
      "Epoch 49/50\n",
      "61/61 [==============================] - 0s 981us/step - loss: 0.0018\n",
      "Epoch 50/50\n",
      "61/61 [==============================] - 0s 947us/step - loss: 0.0019\n"
     ]
    },
    {
     "data": {
      "text/plain": [
       "<tensorflow.python.keras.callbacks.History at 0x1c94ac52b80>"
      ]
     },
     "execution_count": 115,
     "metadata": {},
     "output_type": "execute_result"
    }
   ],
   "source": [
    "model = Sequential()\n",
    "model.add(Dense(1))\n",
    "model.compile(loss='mean_squared_error', optimizer='adam')\n",
    "model.fit(trainX, trainY, epochs=50, batch_size=1)"
   ]
  },
  {
   "cell_type": "code",
   "execution_count": null,
   "metadata": {},
   "outputs": [],
   "source": []
  },
  {
   "cell_type": "code",
   "execution_count": null,
   "metadata": {},
   "outputs": [],
   "source": []
  }
 ],
 "metadata": {
  "kernelspec": {
   "display_name": "Python 3",
   "language": "python",
   "name": "python3"
  },
  "language_info": {
   "codemirror_mode": {
    "name": "ipython",
    "version": 3
   },
   "file_extension": ".py",
   "mimetype": "text/x-python",
   "name": "python",
   "nbconvert_exporter": "python",
   "pygments_lexer": "ipython3",
   "version": "3.8.5"
  }
 },
 "nbformat": 4,
 "nbformat_minor": 4
}
